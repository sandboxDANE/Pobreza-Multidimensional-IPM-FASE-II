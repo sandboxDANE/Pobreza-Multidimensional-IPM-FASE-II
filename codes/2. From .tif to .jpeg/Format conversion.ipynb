{
  "nbformat": 4,
  "nbformat_minor": 0,
  "metadata": {
    "colab": {
      "name": "Untitled",
      "provenance": []
    },
    "kernelspec": {
      "name": "python3",
      "display_name": "Python 3"
    },
    "language_info": {
      "name": "python"
    }
  },
  "cells": [
    {
      "cell_type": "code",
      "metadata": {
        "id": "jPoWFQCZKWMU"
      },
      "source": [
        "import os\n",
        "from PIL import Image\n",
        "\n",
        "current_path = \"/dbfs/mnt/pobreza/changeanalysis/func-mintic-pobrezamultidimensio/IMAGENES/2018/TIF\"\n",
        "new_path = \"/dbfs/mnt/pobreza/changeanalysis/func-mintic-pobrezamultidimensio/IMAGENES/2018/JPG/\"\n",
        "for root, dirs, files in os.walk(current_path, topdown=False):\n",
        "    for name in files:\n",
        "      #print(os.path.join(root, name))\n",
        "      #outputfile = os.path.splitext(os.path.join(root, name))[0] + \".jpg\"\n",
        "         \n",
        "      im = Image.open(os.path.join(root, name))\n",
        "      #print (\"Converting jpeg for %s\" % name)\n",
        "      im.thumbnail(im.size)\n",
        "      #out = new_path + outputfile\n",
        "      name1 = os.path.splitext(os.path.join(name))[0] + \".jpg\"\n",
        "      file_path = os.path.join( new_path, name1  ) \n",
        "\n",
        "      #print(file_path )\n",
        "      print(name1)\n",
        "      im.save(file_path, \"JPEG\", quality=100)\n",
        "          \n",
        "  \n",
        "\n",
        "  "
      ],
      "execution_count": null,
      "outputs": []
    }
  ]
}