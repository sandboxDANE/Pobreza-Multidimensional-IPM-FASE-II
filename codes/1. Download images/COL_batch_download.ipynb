{
  "nbformat": 4,
  "nbformat_minor": 0,
  "metadata": {
    "colab": {
      "name": "COL2018SN_batch_download.ipynb",
      "provenance": [],
      "collapsed_sections": []
    },
    "kernelspec": {
      "display_name": "Python 3",
      "name": "python3"
    }
  },
  "cells": [
    {
      "cell_type": "markdown",
      "metadata": {
        "id": "VdrVV9apkgMT"
      },
      "source": [
        "sets up gdrive\n"
      ]
    },
    {
      "cell_type": "code",
      "metadata": {
        "id": "BxJgwkFurpYU"
      },
      "source": [
        "from google.colab import drive\n",
        "drive.mount('/content/gdrive')#, force_remount=True)\n",
        "root_dir = \"/content/gdrive/My Drive/\""
      ],
      "execution_count": null,
      "outputs": []
    },
    {
      "cell_type": "markdown",
      "metadata": {
        "id": "egEH0HyZ5Fus"
      },
      "source": [
        "the following three lines ensure that any edits to libraries you make are reloaded here automatically, and also that any charts or images displayed are shown in this notebook."
      ]
    },
    {
      "cell_type": "code",
      "metadata": {
        "id": "4cZ-08D35BkV"
      },
      "source": [
        "%reload_ext autoreload\n",
        "%autoreload 2\n",
        "%matplotlib inline"
      ],
      "execution_count": null,
      "outputs": []
    },
    {
      "cell_type": "markdown",
      "metadata": {
        "id": "UEM9_rnwkm7P"
      },
      "source": [
        " install secure connection library"
      ]
    },
    {
      "cell_type": "code",
      "metadata": {
        "colab": {
          "base_uri": "https://localhost:8080/"
        },
        "id": "8FaOfSxAeQ2V",
        "outputId": "be161274-5de8-4198-b5e3-7952355128f3"
      },
      "source": [
        "!pip install 'pyOpenSSL>=0.11'"
      ],
      "execution_count": null,
      "outputs": [
        {
          "output_type": "stream",
          "text": [
            "Collecting pyOpenSSL>=0.11\n",
            "\u001b[?25l  Downloading https://files.pythonhosted.org/packages/b2/5e/06351ede29fd4899782ad335c2e02f1f862a887c20a3541f17c3fa1a3525/pyOpenSSL-20.0.1-py2.py3-none-any.whl (54kB)\n",
            "\u001b[K     |████████████████████████████████| 61kB 2.4MB/s \n",
            "\u001b[?25hCollecting cryptography>=3.2\n",
            "\u001b[?25l  Downloading https://files.pythonhosted.org/packages/b2/26/7af637e6a7e87258b963f1731c5982fb31cd507f0d90d91836e446955d02/cryptography-3.4.7-cp36-abi3-manylinux2014_x86_64.whl (3.2MB)\n",
            "\u001b[K     |████████████████████████████████| 3.2MB 4.0MB/s \n",
            "\u001b[?25hRequirement already satisfied: six>=1.5.2 in /usr/local/lib/python3.7/dist-packages (from pyOpenSSL>=0.11) (1.15.0)\n",
            "Requirement already satisfied: cffi>=1.12 in /usr/local/lib/python3.7/dist-packages (from cryptography>=3.2->pyOpenSSL>=0.11) (1.14.5)\n",
            "Requirement already satisfied: pycparser in /usr/local/lib/python3.7/dist-packages (from cffi>=1.12->cryptography>=3.2->pyOpenSSL>=0.11) (2.20)\n",
            "Installing collected packages: cryptography, pyOpenSSL\n",
            "Successfully installed cryptography-3.4.7 pyOpenSSL-20.0.1\n"
          ],
          "name": "stdout"
        }
      ]
    },
    {
      "cell_type": "code",
      "metadata": {
        "colab": {
          "base_uri": "https://localhost:8080/"
        },
        "id": "9x5gs5ZMe2E-",
        "outputId": "0c5113b3-9834-46df-c529-556a5314f743"
      },
      "source": [
        "!pip install earthengine-api "
      ],
      "execution_count": null,
      "outputs": [
        {
          "output_type": "stream",
          "text": [
            "Requirement already satisfied: earthengine-api in /usr/local/lib/python3.7/dist-packages (0.1.269)\n",
            "Requirement already satisfied: future in /usr/local/lib/python3.7/dist-packages (from earthengine-api) (0.16.0)\n",
            "Requirement already satisfied: google-auth-httplib2>=0.0.3 in /usr/local/lib/python3.7/dist-packages (from earthengine-api) (0.0.4)\n",
            "Requirement already satisfied: google-cloud-storage in /usr/local/lib/python3.7/dist-packages (from earthengine-api) (1.18.1)\n",
            "Requirement already satisfied: google-api-python-client<2,>=1.12.1 in /usr/local/lib/python3.7/dist-packages (from earthengine-api) (1.12.8)\n",
            "Requirement already satisfied: httplib2<1dev,>=0.9.2 in /usr/local/lib/python3.7/dist-packages (from earthengine-api) (0.17.4)\n",
            "Requirement already satisfied: httplib2shim in /usr/local/lib/python3.7/dist-packages (from earthengine-api) (0.0.3)\n",
            "Requirement already satisfied: google-auth>=1.4.1 in /usr/local/lib/python3.7/dist-packages (from earthengine-api) (1.31.0)\n",
            "Requirement already satisfied: six in /usr/local/lib/python3.7/dist-packages (from earthengine-api) (1.15.0)\n",
            "Requirement already satisfied: google-resumable-media<0.5.0dev,>=0.3.1 in /usr/local/lib/python3.7/dist-packages (from google-cloud-storage->earthengine-api) (0.4.1)\n",
            "Requirement already satisfied: google-cloud-core<2.0dev,>=1.0.0 in /usr/local/lib/python3.7/dist-packages (from google-cloud-storage->earthengine-api) (1.0.3)\n",
            "Requirement already satisfied: uritemplate<4dev,>=3.0.0 in /usr/local/lib/python3.7/dist-packages (from google-api-python-client<2,>=1.12.1->earthengine-api) (3.0.1)\n",
            "Requirement already satisfied: google-api-core<2dev,>=1.21.0 in /usr/local/lib/python3.7/dist-packages (from google-api-python-client<2,>=1.12.1->earthengine-api) (1.26.3)\n",
            "Requirement already satisfied: urllib3 in /usr/local/lib/python3.7/dist-packages (from httplib2shim->earthengine-api) (1.24.3)\n",
            "Requirement already satisfied: certifi in /usr/local/lib/python3.7/dist-packages (from httplib2shim->earthengine-api) (2021.5.30)\n",
            "Requirement already satisfied: pyasn1-modules>=0.2.1 in /usr/local/lib/python3.7/dist-packages (from google-auth>=1.4.1->earthengine-api) (0.2.8)\n",
            "Requirement already satisfied: setuptools>=40.3.0 in /usr/local/lib/python3.7/dist-packages (from google-auth>=1.4.1->earthengine-api) (57.0.0)\n",
            "Requirement already satisfied: rsa<5,>=3.1.4; python_version >= \"3.6\" in /usr/local/lib/python3.7/dist-packages (from google-auth>=1.4.1->earthengine-api) (4.7.2)\n",
            "Requirement already satisfied: cachetools<5.0,>=2.0.0 in /usr/local/lib/python3.7/dist-packages (from google-auth>=1.4.1->earthengine-api) (4.2.2)\n",
            "Requirement already satisfied: protobuf>=3.12.0 in /usr/local/lib/python3.7/dist-packages (from google-api-core<2dev,>=1.21.0->google-api-python-client<2,>=1.12.1->earthengine-api) (3.12.4)\n",
            "Requirement already satisfied: requests<3.0.0dev,>=2.18.0 in /usr/local/lib/python3.7/dist-packages (from google-api-core<2dev,>=1.21.0->google-api-python-client<2,>=1.12.1->earthengine-api) (2.23.0)\n",
            "Requirement already satisfied: googleapis-common-protos<2.0dev,>=1.6.0 in /usr/local/lib/python3.7/dist-packages (from google-api-core<2dev,>=1.21.0->google-api-python-client<2,>=1.12.1->earthengine-api) (1.53.0)\n",
            "Requirement already satisfied: pytz in /usr/local/lib/python3.7/dist-packages (from google-api-core<2dev,>=1.21.0->google-api-python-client<2,>=1.12.1->earthengine-api) (2018.9)\n",
            "Requirement already satisfied: packaging>=14.3 in /usr/local/lib/python3.7/dist-packages (from google-api-core<2dev,>=1.21.0->google-api-python-client<2,>=1.12.1->earthengine-api) (20.9)\n",
            "Requirement already satisfied: pyasn1<0.5.0,>=0.4.6 in /usr/local/lib/python3.7/dist-packages (from pyasn1-modules>=0.2.1->google-auth>=1.4.1->earthengine-api) (0.4.8)\n",
            "Requirement already satisfied: idna<3,>=2.5 in /usr/local/lib/python3.7/dist-packages (from requests<3.0.0dev,>=2.18.0->google-api-core<2dev,>=1.21.0->google-api-python-client<2,>=1.12.1->earthengine-api) (2.10)\n",
            "Requirement already satisfied: chardet<4,>=3.0.2 in /usr/local/lib/python3.7/dist-packages (from requests<3.0.0dev,>=2.18.0->google-api-core<2dev,>=1.21.0->google-api-python-client<2,>=1.12.1->earthengine-api) (3.0.4)\n",
            "Requirement already satisfied: pyparsing>=2.0.2 in /usr/local/lib/python3.7/dist-packages (from packaging>=14.3->google-api-core<2dev,>=1.21.0->google-api-python-client<2,>=1.12.1->earthengine-api) (2.4.7)\n"
          ],
          "name": "stdout"
        }
      ]
    },
    {
      "cell_type": "markdown",
      "metadata": {
        "id": "nLp6-VARkvCQ"
      },
      "source": [
        "authenticate earthengine to work with your google account"
      ]
    },
    {
      "cell_type": "code",
      "metadata": {
        "colab": {
          "base_uri": "https://localhost:8080/"
        },
        "id": "tjL1jWzHhKWf",
        "outputId": "448cb5e0-4ba9-4c45-ec40-48fa04f84436"
      },
      "source": [
        "!earthengine authenticate"
      ],
      "execution_count": null,
      "outputs": [
        {
          "output_type": "stream",
          "text": [
            "WARNING:tensorflow:From /usr/local/lib/python3.7/dist-packages/tensorflow/python/compat/v2_compat.py:96: disable_resource_variables (from tensorflow.python.ops.variable_scope) is deprecated and will be removed in a future version.\n",
            "Instructions for updating:\n",
            "non-resource variables are not supported in the long term\n",
            "To authorize access needed by Earth Engine, open the following URL in a web browser and follow the instructions. If the web browser does not start automatically, please manually browse the URL below.\n",
            "\n",
            "    https://accounts.google.com/o/oauth2/auth?client_id=517222506229-vsmmajv00ul0bs7p89v5m89qs8eb9359.apps.googleusercontent.com&scope=https%3A%2F%2Fwww.googleapis.com%2Fauth%2Fearthengine+https%3A%2F%2Fwww.googleapis.com%2Fauth%2Fdevstorage.full_control&redirect_uri=urn%3Aietf%3Awg%3Aoauth%3A2.0%3Aoob&response_type=code&code_challenge=4MNpH73Fjmj1KmEhTSJ7u3KX9v5_8_MadQlYiTk7_o8&code_challenge_method=S256\n",
            "\n",
            "The authorization workflow will generate a code, which you should paste in the box below. \n",
            "Enter verification code: 4/1AY0e-g4wJMHLKS5RHBDGxk6oa0V_TXP86jtsgxSFF2FQUbvAiqIWtpsuAN4\n",
            "\n",
            "Successfully saved authorization token.\n"
          ],
          "name": "stdout"
        }
      ]
    },
    {
      "cell_type": "code",
      "metadata": {
        "id": "xJGjSh5IiA_u"
      },
      "source": [
        "import ee; ee.Initialize();"
      ],
      "execution_count": null,
      "outputs": []
    },
    {
      "cell_type": "markdown",
      "metadata": {
        "id": "K-fM-emak5H6"
      },
      "source": [
        "test correct earthengine setup for notebook, if no error then ok :)"
      ]
    },
    {
      "cell_type": "code",
      "metadata": {
        "id": "RUMRqMyuym06"
      },
      "source": [
        "!pip install -U -q PyDrive"
      ],
      "execution_count": null,
      "outputs": []
    },
    {
      "cell_type": "markdown",
      "metadata": {
        "id": "eH2_-X1flWbx"
      },
      "source": [
        "sets up gdrive within earthengine for input and output"
      ]
    },
    {
      "cell_type": "code",
      "metadata": {
        "id": "1YirwRGVyvHq"
      },
      "source": [
        "from pydrive.auth import GoogleAuth\n",
        "from pydrive.drive import GoogleDrive\n",
        "from google.colab import auth\n",
        "from oauth2client.client import GoogleCredentials\n",
        "# Authenticate and create the PyDrive client.\n",
        "auth.authenticate_user()\n",
        "gauth = GoogleAuth()\n",
        "gauth.credentials = GoogleCredentials.get_application_default()\n",
        "drive = GoogleDrive(gauth)"
      ],
      "execution_count": null,
      "outputs": []
    },
    {
      "cell_type": "markdown",
      "metadata": {
        "id": "i6LYW_szlckA"
      },
      "source": [
        "import csv from gdrive"
      ]
    },
    {
      "cell_type": "code",
      "metadata": {
        "colab": {
          "base_uri": "https://localhost:8080/"
        },
        "id": "l5isZmtgy_0k",
        "outputId": "fc73ec32-6f4c-4d42-84b0-18294e83943b"
      },
      "source": [
        "#paste into link the link of csv file on your gdrive\n",
        "import pandas as pd\n",
        "# Cambiar el id, \"Obtener link\"\n",
        "link = 'https://drive.google.com/open?id=1ZCw1sStEBJIVwaDmh8iCQm0pM-Xo-Fnv'\n",
        "fluff, id = link.split('=')\n",
        "print (id) # Verify that you have everything after '='\n",
        "downloaded = drive.CreateFile({'id':id}) \n",
        "downloaded.GetContentFile('CNN_CENI_COL_79979_ALL.csv')  \n",
        "df3 = pd.read_csv('CNN_CENI_COL_79979_ALL.csv')\n",
        "\n",
        "#cnn_col_2018_annual_month_median_n"
      ],
      "execution_count": null,
      "outputs": [
        {
          "output_type": "stream",
          "text": [
            "1ZCw1sStEBJIVwaDmh8iCQm0pM-Xo-Fnv\n"
          ],
          "name": "stdout"
        }
      ]
    },
    {
      "cell_type": "markdown",
      "metadata": {
        "id": "P_P_TNGHlhgJ"
      },
      "source": [
        "check sample of csv"
      ]
    },
    {
      "cell_type": "code",
      "metadata": {
        "colab": {
          "base_uri": "https://localhost:8080/"
        },
        "id": "j5lV4p-Am9O8",
        "outputId": "8691e25e-aead-4636-8a81-1d7588c1fd59"
      },
      "source": [
        "df3.shape"
      ],
      "execution_count": null,
      "outputs": [
        {
          "output_type": "execute_result",
          "data": {
            "text/plain": [
              "(77979, 3)"
            ]
          },
          "metadata": {
            "tags": []
          },
          "execution_count": 10
        }
      ]
    },
    {
      "cell_type": "code",
      "metadata": {
        "colab": {
          "base_uri": "https://localhost:8080/",
          "height": 235
        },
        "id": "bpuPKOxBmj7y",
        "outputId": "433876cb-a39a-49a8-a7f7-27a4f5ffef7c"
      },
      "source": [
        "# Set the id = rownumber as index of the DataFrame\n",
        "df3 = df3.set_index('id')\n",
        "df3 = df3.sort_values(by=['id'])\n",
        "df3.head()"
      ],
      "execution_count": null,
      "outputs": [
        {
          "output_type": "execute_result",
          "data": {
            "text/html": [
              "<div>\n",
              "<style scoped>\n",
              "    .dataframe tbody tr th:only-of-type {\n",
              "        vertical-align: middle;\n",
              "    }\n",
              "\n",
              "    .dataframe tbody tr th {\n",
              "        vertical-align: top;\n",
              "    }\n",
              "\n",
              "    .dataframe thead th {\n",
              "        text-align: right;\n",
              "    }\n",
              "</style>\n",
              "<table border=\"1\" class=\"dataframe\">\n",
              "  <thead>\n",
              "    <tr style=\"text-align: right;\">\n",
              "      <th></th>\n",
              "      <th>lat</th>\n",
              "      <th>long</th>\n",
              "    </tr>\n",
              "    <tr>\n",
              "      <th>id</th>\n",
              "      <th></th>\n",
              "      <th></th>\n",
              "    </tr>\n",
              "  </thead>\n",
              "  <tbody>\n",
              "    <tr>\n",
              "      <th>1</th>\n",
              "      <td>-4.191180</td>\n",
              "      <td>-69.973730</td>\n",
              "    </tr>\n",
              "    <tr>\n",
              "      <th>2</th>\n",
              "      <td>-4.191180</td>\n",
              "      <td>-69.939235</td>\n",
              "    </tr>\n",
              "    <tr>\n",
              "      <th>3</th>\n",
              "      <td>-4.156684</td>\n",
              "      <td>-69.973730</td>\n",
              "    </tr>\n",
              "    <tr>\n",
              "      <th>4</th>\n",
              "      <td>-4.156684</td>\n",
              "      <td>-69.939235</td>\n",
              "    </tr>\n",
              "    <tr>\n",
              "      <th>5</th>\n",
              "      <td>-4.122189</td>\n",
              "      <td>-70.008225</td>\n",
              "    </tr>\n",
              "  </tbody>\n",
              "</table>\n",
              "</div>"
            ],
            "text/plain": [
              "         lat       long\n",
              "id                     \n",
              "1  -4.191180 -69.973730\n",
              "2  -4.191180 -69.939235\n",
              "3  -4.156684 -69.973730\n",
              "4  -4.156684 -69.939235\n",
              "5  -4.122189 -70.008225"
            ]
          },
          "metadata": {
            "tags": []
          },
          "execution_count": 11
        }
      ]
    },
    {
      "cell_type": "code",
      "metadata": {
        "id": "Uk8HdQKtfneO"
      },
      "source": [
        "#SENTINEL export\n",
        "\n",
        "import ee\n",
        "\n",
        "ee.Initialize()\n",
        "\n",
        "##################################\n",
        "#manually created bounding polygon for Colombia\n",
        "\n",
        "#COLOMBIA\n",
        "tha_shp = ee.Geometry.Polygon(\n",
        "        [[[-78.9909352282, 12.4373031682],\n",
        "          [-78.9909352282, -4.29818694419],\n",
        "          [-66.8763258531, -4.29818694419],\n",
        "          [-66.8763258531, 12.4373031682]]]);\n",
        "\n",
        "#SENTINEL START\n",
        "#/**\n",
        "# * Function to mask clouds using the Sentinel-2 QA band\n",
        "# * @param {ee.Image} image Sentinel-2 image\n",
        "# * @return {ee.Image} cloud masked Sentinel-2 image\n",
        "# */\n",
        "def maskS2clouds(image):\n",
        "    qa = image.select('QA60')\n",
        "#  // Bits 10 and 11 are clouds and cirrus, respectively.\n",
        "    cloudBitMask = 1 << 10\n",
        "    cirrusBitMask = 1 << 11\n",
        "#  // Both flags should be set to zero, indicating clear conditions.\n",
        "    mask = qa.bitwiseAnd(cloudBitMask).eq(0).And(qa.bitwiseAnd(cirrusBitMask).eq(0))\n",
        "    return image.updateMask(mask).divide(10000)\n",
        "\n",
        "\n",
        "#// Map the function over one year of data and take the median.\n",
        "#// Load Sentinel-2 TOA reflectance data.\n",
        "\n",
        "rgbVis = {'min': 0.0,'max': 0.3,'bands': ['B4', 'B3', 'B2'],}\n",
        "\n",
        "dataset = ee.ImageCollection('COPERNICUS/S2').filterDate('2020-01-01', '2020-12-31').filterBounds(tha_shp).filter(ee.Filter.lt('CLOUDY_PIXEL_PERCENTAGE', 60)).map(maskS2clouds)\n",
        "\n",
        "upres = dataset.median().visualize(**rgbVis)\n",
        "\n",
        "#################################\n",
        "\n",
        "#downloaded image is black -> switch coordinates :)\n",
        "\n",
        "#all bands must have the same data type when exporting, you should download only the bands you need and cast them to a type that suit all bands.\n",
        "##################################\n",
        "\n",
        "# gives a tuple of column name and series \n",
        "# for each column in the dataframe \n",
        "vector_faltante = [170,2910,8000,22729,22730,22731,22732,22733,22734,22735,22736,22737,22738,22739,22740,22741,22742,22743,22744,22745,22746,22747,22748,22749,22750,22751,22752,22753,22754,22755,22756,22757,22758,22759,22760,22761,22762,22763,22764,22765,22766,22767,22768,29140,29258,29269,29302,29314,29321,29329,29362,29366,29370,29377,29382,29383,29398,29401,29407,29416,29425,29432,29436,29438,29444,29445,29447,29449,29450,29453,29456,29461,29465,29471,29474,29476,29477,29478,29479,29483,29485,29489,29499,29505,29510,29517,29519,29520,29526,29534,29535,29536,29545,29548,29549,29553,29562,29564,29565,29567,29569,29572,29583,29593,29595,29605,29624,29628,29629,29637,29639,29645,29646,29649,29652,29657,29663,29664,29665,29673,29675,29677,29680,29692,29696,29705,29708,29711,29713,29715,29733,29735,29739,29748,29767,29768,29776,29787,29794,29796,29804,29807,29808,29809,29811,29819,29823,29839,29843,29844,29845,29846,29847,29860,29863,29867,29872,29875,29877,29880,29886,29895,29897,29906,29907,29918,29919,29922,29933,29935,29939,29943,29947,29948,29950,29955,29964,29993,29997,30005,30015,30022,30024,30033,30036,30051,30056,30059,30063,30067,30070,30072,30074,30075,30093,30097,30098,30101,30102,30106,30115,30119,30129,30131,30134,30138,30141,30150,30151,30168,30177,30179,30181,30189,30201,30206,30217,30218,30225,30236,30237,30252,30262,30263,30264,30265,30268,30269,30272,30274,30276,30277,30286,30287,30289,30290,30291,30294,30300,30306,30308,30319,30321,30325,30326,30332,30341,30345,30349,30353,30354,30357,30365,30366,30369,30372,30374,30375,30376,30378,30381,30389,30398,30410,30419,30422,30438,30448,30453,30455,30456,30460,30463,30465,30466,30471,30476,30477,30478,30480,30493,30503,30504,30514,30517,30520,30522,30529,30530,30532,30542,30543,30553,30564,30579,30583,30584,30590,30592,30595,30608,30617,30623,30625,30629,30632,30634,30636,30640,30641,30643,30645,30648,30650,30658,30660,30661,30662,30678,30680,30684,30688,30696,30701,30706,30712,30714,30716,30718,30730,30738,30739,30745,30766,30767,30775,30790,30793,30810,30825,30845,30847,30852,30853,30854,30856,30860,30874,30879,30882,30888,30890,30891,30894,30903,30908,30912,30922,30925,30929,30933,30937,30939,30940,30942,30945,30947,30948,30952,30955,30961,30966,30977,30988,30992,30997,31013,31016,31019,31021,31022,31023,31024,31031,31033,31034,31037,31039,31053,31060,31064,31072,31079,31081,31083,31085,31087,31090,31093,31108,31113,31117,31118,31120,31126,31127,31134,31136,31137,31143,31153,31156,31157,31159,31162,31166,31174,31176,31179,31191,31193,31196,31203,31206,31207,31211,31212,31215,31217,31219,31220,31221,31227,31229,31232,31233,31234,31238,31241,31245,31246,31254,31266,31279,31280,31284,31286,31293,31294,31301,31306,31309,31312,31314,31318,31322,31325,31337,31342,31343,31347,31348,31357,31363,31364,31365,31369,31371,31372,31373,31393,31396,31397,31399,31405,31407,31412,31414,31433,31434,31439,31448,31449,31451,31455,31465,31466,31469,31471,31472,31473,31484,31487,31493,31497,31501,31514,31523,31531,31547,31550,31557,31562,31565,31566,31570,31574,31575,31581,31584,31589,31592,31599,31614,31615,31616,31622,31623,31625,31637,31640,31643,31645,31646,31648,31650,31654,31659,31666,31668,31670,31674,31679,31680,31689,31692,31699,31700,31703,31709,31710,31711,31714,31715,31720,31727,31732,31734,31737,31740,31749,31755,31756,31759,31764,31778,31783,31785,31787,31790,31802,31806,31808,31809,31824,31836,31849,31850,31855,31858,31863,31864,31870,31874,31878,31879,31884,31886,31887,31908,31914,31915,31933,31934,31936,31937,31939,31942,31944,31952,31953,31955,31957,31959,31962,31963,31970,31973,31977,31981,31986,31987,31992,31998,31999]\n",
        "\n",
        "for i in vector_faltante:\n",
        "  #if i > 70193 and i < 71029 :  \n",
        "    c_lon = df3['long'][i]\n",
        "    c_lat = df3['lat'][i]\n",
        "    geometry = ee.Geometry.Point([c_lon, c_lat]).buffer(1920)#1920metres because we want resolution of image 384x384 pixels -> 10x384/2 = 1920\n",
        "    geometry = geometry.getInfo()['coordinates'][0]\n",
        "    task_config = {\n",
        "        'scale': 10,\n",
        "        'region': geometry,\n",
        "        'driveFolder': 'CNN_IMG_COL_2020_3840_TIF_79979_ALL_FALTANTE',\n",
        "    }\n",
        "\n",
        "    task = ee.batch.Export.image(upres, 'CNN_DIMG_COL_2020_ST_384_3840_13_' + '{:06d}'.format(i), task_config)\n",
        "  \n",
        "        #print('Export Image '+ str(i)+ ' was submitted, please wait ...');\n",
        "\n",
        "    task.start()"
      ],
      "execution_count": null,
      "outputs": []
    },
    {
      "cell_type": "code",
      "metadata": {
        "id": "ItTFrzco0cQi"
      },
      "source": [
        ""
      ],
      "execution_count": null,
      "outputs": []
    }
  ]
}